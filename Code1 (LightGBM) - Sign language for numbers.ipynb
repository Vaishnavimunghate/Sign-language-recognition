{
 "cells": [
  {
   "cell_type": "code",
   "execution_count": 1,
   "id": "805009ea",
   "metadata": {},
   "outputs": [],
   "source": [
    "import numpy as np\n",
    "import matplotlib.pyplot as plt\n",
    "import cv2\n",
    "import os\n",
    "from skimage.feature import canny\n",
    "from sklearn.preprocessing import LabelEncoder"
   ]
  },
  {
   "cell_type": "code",
   "execution_count": 2,
   "id": "f36dd163",
   "metadata": {},
   "outputs": [],
   "source": [
    "# EDGE BASED SEGMENTATION\n",
    "def preprocess1(image):\n",
    "  # resizing\n",
    "  image = cv2.resize(image,(96,96))\n",
    "  # gray scaling\n",
    "  image = cv2.cvtColor(image, cv2.COLOR_BGR2GRAY)\n",
    "  # log transformation\n",
    "  c=0\n",
    "  if np.max(image) == 0:\n",
    "        c=0\n",
    "  else:\n",
    "        c = 255 / np.log(1 + np.max(image)) \n",
    "  log_image = c * (np.log(image + 1)) \n",
    "  log_image = np.array(log_image, dtype = np.uint8)  \n",
    "  # canny edge detection\n",
    "  image = canny(log_image)\n",
    "  return image"
   ]
  },
  {
   "cell_type": "code",
   "execution_count": 3,
   "id": "30af38b0",
   "metadata": {},
   "outputs": [
    {
     "name": "stderr",
     "output_type": "stream",
     "text": [
      "/tmp/ipykernel_40510/383682156.py:13: RuntimeWarning: divide by zero encountered in log\n",
      "  log_image = c * (np.log(image + 1))\n"
     ]
    }
   ],
   "source": [
    "rootdir = 'archive/Sign Language for Numbers'\n",
    "images = []\n",
    "labels = []\n",
    "\n",
    "for folder in os.listdir(rootdir):\n",
    "    classes = os.path.join(rootdir,folder)\n",
    "    label = folder\n",
    "    for file in os.listdir(classes):\n",
    "        img = os.path.join(classes, file)\n",
    "        image = cv2.imread(img)\n",
    "        image = preprocess1(image)\n",
    "        images.append(image)\n",
    "        labels.append(label)\n",
    "\n",
    "encoder = LabelEncoder()\n",
    "labels = encoder.fit_transform(labels)\n"
   ]
  },
  {
   "cell_type": "code",
   "execution_count": 4,
   "id": "d0558b0d",
   "metadata": {},
   "outputs": [],
   "source": [
    "X = np.array(images)\n",
    "y = np.array(labels) "
   ]
  },
  {
   "cell_type": "code",
   "execution_count": 5,
   "id": "d73b3771",
   "metadata": {},
   "outputs": [],
   "source": [
    "import lightgbm as lgb\n",
    "from sklearn.model_selection import GridSearchCV\n",
    "from sklearn.metrics import classification_report\n",
    "from sklearn.datasets import load_digits\n",
    "from sklearn.model_selection import train_test_split\n",
    "from sklearn.metrics import accuracy_score"
   ]
  },
  {
   "cell_type": "code",
   "execution_count": 8,
   "id": "e22562f2",
   "metadata": {},
   "outputs": [],
   "source": [
    "# Flatten the images\n",
    "X_flat = X.reshape(X.shape[0], -1)\n",
    "\n",
    "from sklearn.preprocessing import StandardScaler\n",
    "X_std = StandardScaler().fit_transform(X_flat)\n",
    "\n",
    "from sklearn.decomposition import PCA as sklearnPCA\n",
    "sklearn_pca = sklearnPCA(n_components=80)\n",
    "X = sklearn_pca.fit_transform(X_std)"
   ]
  },
  {
   "cell_type": "code",
   "execution_count": 9,
   "id": "1b9cbd1f",
   "metadata": {},
   "outputs": [
    {
     "name": "stdout",
     "output_type": "stream",
     "text": [
      "Best parameters:  {'learning_rate': 0.1, 'max_depth': 10, 'n_estimators': 200, 'num_leaves': 20}\n",
      "Best score:  0.7504761904761905\n",
      "              precision    recall  f1-score   support\n",
      "\n",
      "           0       0.75      0.86      0.80       431\n",
      "           1       0.76      0.79      0.77       439\n",
      "           2       0.69      0.67      0.68       436\n",
      "           3       0.85      0.80      0.83       462\n",
      "           4       0.62      0.62      0.62       459\n",
      "           5       0.77      0.84      0.80       443\n",
      "           6       0.80      0.68      0.73       476\n",
      "           7       0.73      0.62      0.67       448\n",
      "           8       0.68      0.76      0.72       429\n",
      "           9       0.87      0.83      0.85       437\n",
      "          10       0.68      0.73      0.71       490\n",
      "\n",
      "    accuracy                           0.74      4950\n",
      "   macro avg       0.75      0.74      0.74      4950\n",
      "weighted avg       0.75      0.74      0.74      4950\n",
      "\n",
      "Accuracy: 74.34%\n"
     ]
    }
   ],
   "source": [
    "# Split the dataset into training and testing sets\n",
    "X_train, X_test, y_train, y_test = train_test_split(X, y, test_size=0.3, random_state=42)\n",
    "\n",
    "# Define LightGBM classifier and parameters to tune\n",
    "lgb_clf = lgb.LGBMClassifier()\n",
    "params = {\n",
    "    'num_leaves': [5, 10, 20],\n",
    "    'learning_rate': [0.01, 0.1, 1],\n",
    "    'n_estimators': [50, 100, 200],\n",
    "    'max_depth': [-1, 10, 20]\n",
    "}\n",
    "\n",
    "# Perform grid search with cross-validation to find best parameters\n",
    "grid_search = GridSearchCV(lgb_clf, params, scoring='accuracy', cv=5, n_jobs=-1)\n",
    "grid_search.fit(X_train, y_train)\n",
    "\n",
    "# Print best parameters and score\n",
    "print(\"Best parameters: \", grid_search.best_params_)\n",
    "print(\"Best score: \", grid_search.best_score_)\n",
    "\n",
    "# Make predictions on testing set using the best model\n",
    "y_pred = grid_search.predict(X_test)\n",
    "\n",
    "# Print classification report\n",
    "print(classification_report(y_test, y_pred))\n",
    "accuracy = accuracy_score(y_test, y_pred)\n",
    "print(\"Accuracy: %.2f%%\" % (accuracy * 100))"
   ]
  },
  {
   "cell_type": "code",
   "execution_count": 10,
   "id": "4ae3402e",
   "metadata": {},
   "outputs": [],
   "source": [
    "X = np.array(images)\n",
    "y = np.array(labels) "
   ]
  },
  {
   "cell_type": "code",
   "execution_count": 7,
   "id": "664ef576",
   "metadata": {},
   "outputs": [],
   "source": [
    "import lightgbm as lgb\n",
    "from sklearn.model_selection import GridSearchCV\n",
    "from sklearn.metrics import classification_report\n",
    "from sklearn.datasets import load_digits\n",
    "from sklearn.model_selection import train_test_split\n",
    "from sklearn.metrics import accuracy_score"
   ]
  },
  {
   "cell_type": "code",
   "execution_count": 12,
   "id": "e4c7979f",
   "metadata": {},
   "outputs": [],
   "source": [
    "# Flatten the images\n",
    "X_flat = X.reshape(X.shape[0], -1)\n",
    "\n",
    "from sklearn.preprocessing import StandardScaler\n",
    "X_std = StandardScaler().fit_transform(X_flat)\n",
    "\n",
    "from sklearn.decomposition import PCA as sklearnPCA\n",
    "sklearn_pca = sklearnPCA(n_components=100)\n",
    "X = sklearn_pca.fit_transform(X_std)"
   ]
  },
  {
   "cell_type": "code",
   "execution_count": 13,
   "id": "d14031cd",
   "metadata": {},
   "outputs": [
    {
     "name": "stdout",
     "output_type": "stream",
     "text": [
      "Best parameters:  {'learning_rate': 0.1, 'max_depth': -1, 'n_estimators': 200, 'num_leaves': 20}\n",
      "Best score:  0.7452813852813852\n",
      "              precision    recall  f1-score   support\n",
      "\n",
      "           0       0.73      0.85      0.79       431\n",
      "           1       0.75      0.78      0.76       439\n",
      "           2       0.70      0.68      0.69       436\n",
      "           3       0.84      0.80      0.82       462\n",
      "           4       0.64      0.64      0.64       459\n",
      "           5       0.79      0.81      0.80       443\n",
      "           6       0.83      0.70      0.76       476\n",
      "           7       0.75      0.66      0.70       448\n",
      "           8       0.69      0.74      0.72       429\n",
      "           9       0.86      0.84      0.85       437\n",
      "          10       0.68      0.74      0.71       490\n",
      "\n",
      "    accuracy                           0.75      4950\n",
      "   macro avg       0.75      0.75      0.75      4950\n",
      "weighted avg       0.75      0.75      0.75      4950\n",
      "\n",
      "Accuracy: 74.81%\n"
     ]
    }
   ],
   "source": [
    "# Split the dataset into training and testing sets\n",
    "X_train, X_test, y_train, y_test = train_test_split(X, y, test_size=0.3, random_state=42)\n",
    "\n",
    "# Define LightGBM classifier and parameters to tune\n",
    "lgb_clf = lgb.LGBMClassifier()\n",
    "params = {\n",
    "    'num_leaves': [5, 10, 20],\n",
    "    'learning_rate': [0.01, 0.1, 1],\n",
    "    'n_estimators': [50, 100, 200],\n",
    "    'max_depth': [-1, 10, 20]\n",
    "}\n",
    "\n",
    "# Perform grid search with cross-validation to find best parameters\n",
    "grid_search = GridSearchCV(lgb_clf, params, scoring='accuracy', cv=5, n_jobs=-1)\n",
    "grid_search.fit(X_train, y_train)\n",
    "\n",
    "# Print best parameters and score\n",
    "print(\"Best parameters: \", grid_search.best_params_)\n",
    "print(\"Best score: \", grid_search.best_score_)\n",
    "\n",
    "# Make predictions on testing set using the best model\n",
    "y_pred = grid_search.predict(X_test)\n",
    "\n",
    "# Print classification report\n",
    "print(classification_report(y_test, y_pred))\n",
    "accuracy = accuracy_score(y_test, y_pred)\n",
    "print(\"Accuracy: %.2f%%\" % (accuracy * 100))"
   ]
  },
  {
   "cell_type": "code",
   "execution_count": 14,
   "id": "e7df8228",
   "metadata": {},
   "outputs": [],
   "source": [
    "X = np.array(images)\n",
    "y = np.array(labels) "
   ]
  },
  {
   "cell_type": "code",
   "execution_count": 15,
   "id": "1956c2d4",
   "metadata": {},
   "outputs": [],
   "source": [
    "# Flatten the images\n",
    "X_flat = X.reshape(X.shape[0], -1)\n",
    "\n",
    "from sklearn.preprocessing import StandardScaler\n",
    "X_std = StandardScaler().fit_transform(X_flat)\n",
    "\n",
    "from sklearn.decomposition import PCA as sklearnPCA\n",
    "sklearn_pca = sklearnPCA(n_components=150)\n",
    "X = sklearn_pca.fit_transform(X_std)"
   ]
  },
  {
   "cell_type": "code",
   "execution_count": 16,
   "id": "69f786f1",
   "metadata": {},
   "outputs": [
    {
     "name": "stdout",
     "output_type": "stream",
     "text": [
      "Best parameters:  {'learning_rate': 0.1, 'max_depth': 10, 'n_estimators': 200, 'num_leaves': 20}\n",
      "Best score:  0.7391341991341991\n",
      "              precision    recall  f1-score   support\n",
      "\n",
      "           0       0.74      0.84      0.79       431\n",
      "           1       0.76      0.80      0.78       439\n",
      "           2       0.69      0.66      0.68       436\n",
      "           3       0.85      0.79      0.82       462\n",
      "           4       0.61      0.61      0.61       459\n",
      "           5       0.76      0.81      0.78       443\n",
      "           6       0.78      0.67      0.72       476\n",
      "           7       0.75      0.65      0.70       448\n",
      "           8       0.68      0.76      0.72       429\n",
      "           9       0.86      0.81      0.83       437\n",
      "          10       0.66      0.73      0.69       490\n",
      "\n",
      "    accuracy                           0.74      4950\n",
      "   macro avg       0.74      0.74      0.74      4950\n",
      "weighted avg       0.74      0.74      0.74      4950\n",
      "\n",
      "Accuracy: 73.78%\n"
     ]
    }
   ],
   "source": [
    "# Split the dataset into training and testing sets\n",
    "X_train, X_test, y_train, y_test = train_test_split(X, y, test_size=0.3, random_state=42)\n",
    "\n",
    "# Define LightGBM classifier and parameters to tune\n",
    "lgb_clf = lgb.LGBMClassifier()\n",
    "params = {\n",
    "    'num_leaves': [5, 10, 20],\n",
    "    'learning_rate': [0.01, 0.1, 1],\n",
    "    'n_estimators': [50, 100, 200],\n",
    "    'max_depth': [-1, 10, 20]\n",
    "}\n",
    "\n",
    "# Perform grid search with cross-validation to find best parameters\n",
    "grid_search = GridSearchCV(lgb_clf, params, scoring='accuracy', cv=5, n_jobs=-1)\n",
    "grid_search.fit(X_train, y_train)\n",
    "\n",
    "# Print best parameters and score\n",
    "print(\"Best parameters: \", grid_search.best_params_)\n",
    "print(\"Best score: \", grid_search.best_score_)\n",
    "\n",
    "# Make predictions on testing set using the best model\n",
    "y_pred = grid_search.predict(X_test)\n",
    "\n",
    "# Print classification report\n",
    "print(classification_report(y_test, y_pred))\n",
    "accuracy = accuracy_score(y_test, y_pred)\n",
    "print(\"Accuracy: %.2f%%\" % (accuracy * 100))"
   ]
  },
  {
   "cell_type": "code",
   "execution_count": 17,
   "id": "82da98a1",
   "metadata": {},
   "outputs": [],
   "source": [
    "X = np.array(images)\n",
    "y = np.array(labels) \n",
    "# Flatten the images\n",
    "X_flat = X.reshape(X.shape[0], -1)\n",
    "\n",
    "from sklearn.preprocessing import StandardScaler\n",
    "X_std = StandardScaler().fit_transform(X_flat)\n",
    "\n",
    "from sklearn.decomposition import PCA as sklearnPCA\n",
    "sklearn_pca = sklearnPCA(n_components=200)\n",
    "X = sklearn_pca.fit_transform(X_std)"
   ]
  },
  {
   "cell_type": "code",
   "execution_count": 18,
   "id": "9e5d59ab",
   "metadata": {},
   "outputs": [
    {
     "name": "stdout",
     "output_type": "stream",
     "text": [
      "Best parameters:  {'learning_rate': 0.1, 'max_depth': 10, 'n_estimators': 200, 'num_leaves': 20}\n",
      "Best score:  0.7357575757575757\n",
      "              precision    recall  f1-score   support\n",
      "\n",
      "           0       0.73      0.84      0.78       431\n",
      "           1       0.78      0.80      0.79       439\n",
      "           2       0.67      0.66      0.67       436\n",
      "           3       0.85      0.77      0.81       462\n",
      "           4       0.63      0.63      0.63       459\n",
      "           5       0.75      0.82      0.78       443\n",
      "           6       0.80      0.68      0.74       476\n",
      "           7       0.73      0.62      0.67       448\n",
      "           8       0.66      0.73      0.69       429\n",
      "           9       0.87      0.82      0.84       437\n",
      "          10       0.66      0.73      0.69       490\n",
      "\n",
      "    accuracy                           0.74      4950\n",
      "   macro avg       0.74      0.74      0.74      4950\n",
      "weighted avg       0.74      0.74      0.74      4950\n",
      "\n",
      "Accuracy: 73.54%\n"
     ]
    }
   ],
   "source": [
    "# Split the dataset into training and testing sets\n",
    "X_train, X_test, y_train, y_test = train_test_split(X, y, test_size=0.3, random_state=42)\n",
    "\n",
    "# Define LightGBM classifier and parameters to tune\n",
    "lgb_clf = lgb.LGBMClassifier()\n",
    "params = {\n",
    "    'num_leaves': [5, 10, 20],\n",
    "    'learning_rate': [0.01, 0.1, 1],\n",
    "    'n_estimators': [50, 100, 200],\n",
    "    'max_depth': [-1, 10, 20]\n",
    "}\n",
    "\n",
    "# Perform grid search with cross-validation to find best parameters\n",
    "grid_search = GridSearchCV(lgb_clf, params, scoring='accuracy', cv=5, n_jobs=-1)\n",
    "grid_search.fit(X_train, y_train)\n",
    "\n",
    "# Print best parameters and score\n",
    "print(\"Best parameters: \", grid_search.best_params_)\n",
    "print(\"Best score: \", grid_search.best_score_)\n",
    "\n",
    "# Make predictions on testing set using the best model\n",
    "y_pred = grid_search.predict(X_test)\n",
    "\n",
    "# Print classification report\n",
    "print(classification_report(y_test, y_pred))\n",
    "accuracy = accuracy_score(y_test, y_pred)\n",
    "print(\"Accuracy: %.2f%%\" % (accuracy * 100))"
   ]
  },
  {
   "cell_type": "code",
   "execution_count": 6,
   "id": "373fd4a0",
   "metadata": {},
   "outputs": [],
   "source": [
    "X = np.array(images)\n",
    "y = np.array(labels) \n",
    "# Flatten the images\n",
    "X_flat = X.reshape(X.shape[0], -1)\n",
    "\n",
    "from sklearn.preprocessing import StandardScaler\n",
    "X_std = StandardScaler().fit_transform(X_flat)\n",
    "\n",
    "from sklearn.decomposition import PCA as sklearnPCA\n",
    "sklearn_pca = sklearnPCA(n_components=120)\n",
    "X = sklearn_pca.fit_transform(X_std)"
   ]
  },
  {
   "cell_type": "code",
   "execution_count": 7,
   "id": "cfc833df",
   "metadata": {},
   "outputs": [
    {
     "name": "stdout",
     "output_type": "stream",
     "text": [
      "Best parameters:  {'learning_rate': 0.1, 'max_depth': 10, 'n_estimators': 200, 'num_leaves': 20}\n",
      "Best score:  0.7458874458874458\n",
      "              precision    recall  f1-score   support\n",
      "\n",
      "           0       0.74      0.84      0.79       431\n",
      "           1       0.77      0.81      0.79       439\n",
      "           2       0.68      0.66      0.67       436\n",
      "           3       0.86      0.81      0.83       462\n",
      "           4       0.64      0.63      0.64       459\n",
      "           5       0.79      0.84      0.81       443\n",
      "           6       0.81      0.68      0.74       476\n",
      "           7       0.76      0.65      0.70       448\n",
      "           8       0.68      0.76      0.72       429\n",
      "           9       0.86      0.82      0.84       437\n",
      "          10       0.67      0.73      0.70       490\n",
      "\n",
      "    accuracy                           0.75      4950\n",
      "   macro avg       0.75      0.75      0.75      4950\n",
      "weighted avg       0.75      0.75      0.75      4950\n",
      "\n",
      "Accuracy: 74.65%\n"
     ]
    }
   ],
   "source": [
    "# Split the dataset into training and testing sets\n",
    "X_train, X_test, y_train, y_test = train_test_split(X, y, test_size=0.3, random_state=42)\n",
    "\n",
    "# Define LightGBM classifier and parameters to tune\n",
    "lgb_clf = lgb.LGBMClassifier()\n",
    "params = {\n",
    "    'num_leaves': [5, 10, 20],\n",
    "    'learning_rate': [0.01, 0.1, 1],\n",
    "    'n_estimators': [50, 100, 200],\n",
    "    'max_depth': [-1, 10, 20]\n",
    "}\n",
    "\n",
    "# Perform grid search with cross-validation to find best parameters\n",
    "grid_search = GridSearchCV(lgb_clf, params, scoring='accuracy', cv=5, n_jobs=-1)\n",
    "grid_search.fit(X_train, y_train)\n",
    "\n",
    "# Print best parameters and score\n",
    "print(\"Best parameters: \", grid_search.best_params_)\n",
    "print(\"Best score: \", grid_search.best_score_)\n",
    "\n",
    "# Make predictions on testing set using the best model\n",
    "y_pred = grid_search.predict(X_test)\n",
    "\n",
    "# Print classification report\n",
    "print(classification_report(y_test, y_pred))\n",
    "accuracy = accuracy_score(y_test, y_pred)\n",
    "print(\"Accuracy: %.2f%%\" % (accuracy * 100))"
   ]
  },
  {
   "cell_type": "code",
   "execution_count": 8,
   "id": "e2af2104",
   "metadata": {},
   "outputs": [],
   "source": [
    "X = np.array(images)\n",
    "y = np.array(labels) \n",
    "# Flatten the images\n",
    "X_flat = X.reshape(X.shape[0], -1)\n",
    "\n",
    "from sklearn.preprocessing import StandardScaler\n",
    "X_std = StandardScaler().fit_transform(X_flat)\n",
    "\n",
    "from sklearn.decomposition import PCA as sklearnPCA\n",
    "sklearn_pca = sklearnPCA(n_components=300)\n",
    "X = sklearn_pca.fit_transform(X_std)"
   ]
  },
  {
   "cell_type": "code",
   "execution_count": 9,
   "id": "408ae4d0",
   "metadata": {},
   "outputs": [
    {
     "name": "stdout",
     "output_type": "stream",
     "text": [
      "Best parameters:  {'learning_rate': 0.1, 'max_depth': -1, 'n_estimators': 200, 'num_leaves': 20}\n",
      "Best score:  0.7238095238095238\n",
      "              precision    recall  f1-score   support\n",
      "\n",
      "           0       0.72      0.84      0.78       431\n",
      "           1       0.74      0.79      0.76       439\n",
      "           2       0.69      0.65      0.67       436\n",
      "           3       0.84      0.78      0.81       462\n",
      "           4       0.62      0.61      0.61       459\n",
      "           5       0.75      0.81      0.78       443\n",
      "           6       0.81      0.67      0.73       476\n",
      "           7       0.72      0.60      0.66       448\n",
      "           8       0.65      0.75      0.70       429\n",
      "           9       0.87      0.81      0.84       437\n",
      "          10       0.65      0.72      0.69       490\n",
      "\n",
      "    accuracy                           0.73      4950\n",
      "   macro avg       0.73      0.73      0.73      4950\n",
      "weighted avg       0.73      0.73      0.73      4950\n",
      "\n",
      "Accuracy: 72.91%\n"
     ]
    }
   ],
   "source": [
    "# Split the dataset into training and testing sets\n",
    "X_train, X_test, y_train, y_test = train_test_split(X, y, test_size=0.3, random_state=42)\n",
    "\n",
    "# Define LightGBM classifier and parameters to tune\n",
    "lgb_clf = lgb.LGBMClassifier()\n",
    "params = {\n",
    "    'num_leaves': [5, 10, 20],\n",
    "    'learning_rate': [0.01, 0.1, 1],\n",
    "    'n_estimators': [50, 100, 200],\n",
    "    'max_depth': [-1, 10, 20]\n",
    "}\n",
    "\n",
    "# Perform grid search with cross-validation to find best parameters\n",
    "grid_search = GridSearchCV(lgb_clf, params, scoring='accuracy', cv=5, n_jobs=-1)\n",
    "grid_search.fit(X_train, y_train)\n",
    "\n",
    "# Print best parameters and score\n",
    "print(\"Best parameters: \", grid_search.best_params_)\n",
    "print(\"Best score: \", grid_search.best_score_)\n",
    "\n",
    "# Make predictions on testing set using the best model\n",
    "y_pred = grid_search.predict(X_test)\n",
    "\n",
    "# Print classification report\n",
    "print(classification_report(y_test, y_pred))\n",
    "accuracy = accuracy_score(y_test, y_pred)\n",
    "print(\"Accuracy: %.2f%%\" % (accuracy * 100))"
   ]
  },
  {
   "cell_type": "code",
   "execution_count": null,
   "id": "94ff4f39",
   "metadata": {},
   "outputs": [],
   "source": []
  },
  {
   "cell_type": "code",
   "execution_count": null,
   "id": "9de3f153",
   "metadata": {},
   "outputs": [],
   "source": []
  },
  {
   "cell_type": "code",
   "execution_count": null,
   "id": "3e04db1a",
   "metadata": {},
   "outputs": [],
   "source": []
  }
 ],
 "metadata": {
  "kernelspec": {
   "display_name": "Python 3 (ipykernel)",
   "language": "python",
   "name": "python3"
  },
  "language_info": {
   "codemirror_mode": {
    "name": "ipython",
    "version": 3
   },
   "file_extension": ".py",
   "mimetype": "text/x-python",
   "name": "python",
   "nbconvert_exporter": "python",
   "pygments_lexer": "ipython3",
   "version": "3.8.10"
  }
 },
 "nbformat": 4,
 "nbformat_minor": 5
}
